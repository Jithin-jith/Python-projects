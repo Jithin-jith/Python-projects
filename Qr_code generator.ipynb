{
 "cells": [
  {
   "cell_type": "code",
   "execution_count": 48,
   "id": "29383113",
   "metadata": {},
   "outputs": [],
   "source": [
    "import qrcode"
   ]
  },
  {
   "cell_type": "code",
   "execution_count": 49,
   "id": "bc286de1",
   "metadata": {},
   "outputs": [],
   "source": [
    "data = \"This is a secret Message\""
   ]
  },
  {
   "cell_type": "code",
   "execution_count": 50,
   "id": "d80e34b6",
   "metadata": {},
   "outputs": [],
   "source": [
    "img = qrcode.make(data)"
   ]
  },
  {
   "cell_type": "code",
   "execution_count": 51,
   "id": "d140f519",
   "metadata": {},
   "outputs": [],
   "source": [
    "img.save(\"qrcode.jpg\")"
   ]
  },
  {
   "cell_type": "code",
   "execution_count": 52,
   "id": "5013d203",
   "metadata": {},
   "outputs": [
    {
     "data": {
      "image/png": "[encoded data removed]",
      "text/plain": [
       "<qrcode.image.pil.PilImage at 0x1b24891bbe0>"
      ]
     },
     "execution_count": 52,
     "metadata": {},
     "output_type": "execute_result"
    }
   ],
   "source": [
    "img"
   ]
  },
  {
   "cell_type": "code",
   "execution_count": null,
   "id": "49260780",
   "metadata": {},
   "outputs": [],
   "source": []
  }
 ],
 "metadata": {
  "kernelspec": {
   "display_name": "Python 3 (ipykernel)",
   "language": "python",
   "name": "python3"
  },
  "language_info": {
   "codemirror_mode": {
    "name": "ipython",
    "version": 3
   },
   "file_extension": ".py",
   "mimetype": "text/x-python",
   "name": "python",
   "nbconvert_exporter": "python",
   "pygments_lexer": "ipython3",
   "version": "3.8.13"
  }
 },
 "nbformat": 4,
 "nbformat_minor": 5
}
